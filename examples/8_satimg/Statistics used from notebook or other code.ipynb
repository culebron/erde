{
 "cells": [
  {
   "cell_type": "markdown",
   "id": "89d48e5b",
   "metadata": {},
   "source": [
    "# Sentinel 2 Processing\n",
    "\n",
    "This is a demo made as a test excercise. It extracts satellite images for areas in an arbitrary file, downloads Sentinel 2 tiles and calculates NDVI (normalized difference vegetation index) for the given areas."
   ]
  },
  {
   "cell_type": "code",
   "execution_count": 1,
   "id": "3d1710aa",
   "metadata": {},
   "outputs": [],
   "source": [
    "import example as ex\n",
    "from erde import read_df  # my package that makes loading geometries easier, and adds CLI capabilities."
   ]
  },
  {
   "cell_type": "markdown",
   "id": "4ddf84a4",
   "metadata": {},
   "source": [
    "### Loading test areas:\n",
    "\n",
    "Without `erde`, call `gpd.read_file` instead."
   ]
  },
  {
   "cell_type": "code",
   "execution_count": 2,
   "id": "a70df1c7",
   "metadata": {},
   "outputs": [],
   "source": [
    "areas = read_df('test_areas.geojson')"
   ]
  },
  {
   "cell_type": "markdown",
   "id": "65dffe96",
   "metadata": {},
   "source": [
    "### Calculating Statistics\n",
    "\n",
    "`rootkey.csv` should be generated in AWS user access panel. If this is IAM user, it should have S3 read permissions.\n",
    "\n",
    "**NOTE:** AWS propagates new user keys over several minutes, so don't panic if it doesn't work immediately."
   ]
  },
  {
   "cell_type": "code",
   "execution_count": 3,
   "id": "31605137",
   "metadata": {},
   "outputs": [],
   "source": [
    "# this is optional, to reset cache dir back to default\n",
    "ex.TMP_DIR = ex.tempfile.gettempdir()"
   ]
  },
  {
   "cell_type": "code",
   "execution_count": 4,
   "id": "2d3fabee",
   "metadata": {},
   "outputs": [
    {
     "name": "stderr",
     "output_type": "stream",
     "text": [
      "/home/culebron/Work/erde/examples/8_satimg/example.py:170: RuntimeWarning: invalid value encountered in true_divide\n",
      "  ndvi = (nir_data - swir_hr) / (nir_data + swir_hr)\n"
     ]
    },
    {
     "name": "stdout",
     "output_type": "stream",
     "text": [
      "Area #0 results:\n",
      "Mean NDVI: 2.635\n",
      "Median NDVI: 0.36\n",
      "Variance: 644.665\n",
      "Quantiles: {1: 0.02, 5: 0.07, 10: 0.13, 25: 0.27, 50: 0.36, 95: 17.22, 99: 36.68}\n",
      "Pixels in the area: 123709\n",
      "\n",
      "Area #1 results:\n",
      "Mean NDVI: 0.541\n",
      "Median NDVI: 0.38\n",
      "Variance: 9.334\n",
      "Quantiles: {1: 0.25, 5: 0.31, 10: 0.33, 25: 0.35, 50: 0.38, 95: 0.42, 99: 0.47}\n",
      "Pixels in the area: 55167\n",
      "\n"
     ]
    }
   ],
   "source": [
    "ex.main(areas, '2020-07-15', 'rootkey.csv', True)"
   ]
  },
  {
   "cell_type": "markdown",
   "id": "d1b5b22a",
   "metadata": {},
   "source": [
    "TMP_DIR works as caching directory, and can be configured. For the test areas, there are cropped jp2 files in current directory. Slight differences in NDVI are due to crop cutting some edge pixels."
   ]
  },
  {
   "cell_type": "code",
   "execution_count": 5,
   "id": "cb2b56bb",
   "metadata": {},
   "outputs": [
    {
     "name": "stdout",
     "output_type": "stream",
     "text": [
      "Area #0 results:\n",
      "Mean NDVI: 2.635\n",
      "Median NDVI: 0.36\n",
      "Variance: 644.665\n",
      "Quantiles: {1: 0.02, 5: 0.07, 10: 0.13, 25: 0.27, 50: 0.36, 95: 17.22, 99: 36.68}\n",
      "Pixels in the area: 123709\n",
      "\n",
      "Area #1 results:\n",
      "Mean NDVI: 0.541\n",
      "Median NDVI: 0.38\n",
      "Variance: 9.334\n",
      "Quantiles: {1: 0.25, 5: 0.31, 10: 0.33, 25: 0.35, 50: 0.38, 95: 0.42, 99: 0.47}\n",
      "Pixels in the area: 55167\n",
      "\n"
     ]
    }
   ],
   "source": [
    "ex.TMP_DIR = '.'\n",
    "ex.main(areas, '2020-07-15', 'rootkey.csv', True)"
   ]
  },
  {
   "cell_type": "code",
   "execution_count": null,
   "id": "3ddd561c",
   "metadata": {},
   "outputs": [],
   "source": []
  }
 ],
 "metadata": {
  "kernelspec": {
   "display_name": "Python 3",
   "language": "python",
   "name": "python3"
  },
  "language_info": {
   "codemirror_mode": {
    "name": "ipython",
    "version": 3
   },
   "file_extension": ".py",
   "mimetype": "text/x-python",
   "name": "python",
   "nbconvert_exporter": "python",
   "pygments_lexer": "ipython3",
   "version": "3.8.10"
  }
 },
 "nbformat": 4,
 "nbformat_minor": 5
}

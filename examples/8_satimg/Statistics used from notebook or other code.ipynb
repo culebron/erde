{
 "cells": [
  {
   "cell_type": "markdown",
   "id": "e27b02e0",
   "metadata": {},
   "source": [
    "# Sentinel 2 Processing\n",
    "\n",
    "This is a demo made as a test excercise. It extracts satellite images for areas in an arbitrary file, downloads Sentinel 2 tiles and calculates NDVI (normalized difference vegetation index) for the given areas."
   ]
  },
  {
   "cell_type": "code",
   "execution_count": 1,
   "id": "7d31c298",
   "metadata": {},
   "outputs": [],
   "source": [
    "import example as ex\n",
    "from erde import read_df  # my package that makes loading geometries easier, and adds CLI capabilities."
   ]
  },
  {
   "cell_type": "markdown",
   "id": "62bca736",
   "metadata": {},
   "source": [
    "### Loading test areas:\n",
    "\n",
    "Without `erde`, call `gpd.read_file` instead."
   ]
  },
  {
   "cell_type": "code",
   "execution_count": 2,
   "id": "5abf3599",
   "metadata": {},
   "outputs": [],
   "source": [
    "areas = read_df('test_areas.geojson')"
   ]
  },
  {
   "cell_type": "markdown",
   "id": "46aa64ea",
   "metadata": {},
   "source": [
    "### Calculating Statistics\n",
    "\n",
    "`rootkey.csv` should be generated in AWS user access panel. If this is IAM user, it should have S3 read permissions.\n",
    "\n",
    "**NOTE:** AWS propagates new user keys over several minutes, so don't panic if it doesn't work immediately."
   ]
  },
  {
   "cell_type": "code",
   "execution_count": 3,
   "id": "053af553",
   "metadata": {},
   "outputs": [],
   "source": [
    "# this is optional, to reset cache dir back to default\n",
    "ex.TMP_DIR = ex.tempfile.gettempdir()"
   ]
  },
  {
   "cell_type": "code",
   "execution_count": 4,
   "id": "ef300ac7",
   "metadata": {},
   "outputs": [
    {
     "name": "stdout",
     "output_type": "stream",
     "text": [
      "Searching for tiles for area #0\n",
      "Requesting tiles for geometries. Params: {'bbox': '[83.070385, 54.822552, 83.121383, 54.857172]', 'time': '2020-07-06T00:00:00Z/2020-07-20T00:00:00Z', 'collection': 'sentinel-2-l1c', 'limit': 100}\n",
      "Found 8 images.\n",
      "Downloading image from S3: https://sentinel-s2-l1c.s3.amazonaws.com/tiles/44/U/PF/2020/7/19/0/B01.jp2\n",
      "Image was already cached in /tmp/tiles-44-U-PF-2020-7-19-0-B01.jp2\n",
      "Downloading image from S3: https://sentinel-s2-l1c.s3.amazonaws.com/tiles/44/U/PF/2020/7/19/0/B08.jp2\n",
      "Image was already cached in /tmp/tiles-44-U-PF-2020-7-19-0-B08.jp2\n",
      "Downloading image from S3: https://sentinel-s2-l1c.s3.amazonaws.com/tiles/44/U/PF/2020/7/19/0/B11.jp2\n",
      "Image was already cached in /tmp/tiles-44-U-PF-2020-7-19-0-B11.jp2\n",
      "Area #0 results:\n",
      "Mean NDVI: 2.499\n",
      "Median NDVI: 0.32\n",
      "Variance: 319.328\n",
      "Quantiles: {1: 0.01, 5: 0.06, 10: 0.11, 25: 0.24, 50: 0.32, 95: 18.79, 99: 29.57}\n",
      "Pixels in the area: 123709\n",
      "\n",
      "Searching for tiles for area #1\n",
      "Requesting tiles for geometries. Params: {'bbox': '[83.102957, 54.812444, 83.143276, 54.831243]', 'time': '2020-07-06T00:00:00Z/2020-07-20T00:00:00Z', 'collection': 'sentinel-2-l1c', 'limit': 100}\n"
     ]
    },
    {
     "name": "stderr",
     "output_type": "stream",
     "text": [
      "/home/culebron/Work/erde/examples/8_satimg/example.py:173: RuntimeWarning: invalid value encountered in true_divide\n",
      "  ndvi = (nir_data - swir_hr) / (nir_data + swir_hr)\n"
     ]
    },
    {
     "name": "stdout",
     "output_type": "stream",
     "text": [
      "Found 8 images.\n",
      "Downloading image from S3: https://sentinel-s2-l1c.s3.amazonaws.com/tiles/44/U/PF/2020/7/19/0/B01.jp2\n",
      "Image was already cached in /tmp/tiles-44-U-PF-2020-7-19-0-B01.jp2\n",
      "Downloading image from S3: https://sentinel-s2-l1c.s3.amazonaws.com/tiles/44/U/PF/2020/7/19/0/B08.jp2\n",
      "Image was already cached in /tmp/tiles-44-U-PF-2020-7-19-0-B08.jp2\n",
      "Downloading image from S3: https://sentinel-s2-l1c.s3.amazonaws.com/tiles/44/U/PF/2020/7/19/0/B11.jp2\n",
      "Image was already cached in /tmp/tiles-44-U-PF-2020-7-19-0-B11.jp2\n",
      "Area #1 results:\n",
      "Mean NDVI: 0.522\n",
      "Median NDVI: 0.36\n",
      "Variance: 9.549\n",
      "Quantiles: {1: 0.23, 5: 0.28, 10: 0.3, 25: 0.33, 50: 0.36, 95: 0.41, 99: 0.45}\n",
      "Pixels in the area: 55167\n",
      "\n"
     ]
    }
   ],
   "source": [
    "ex.main(areas, '2020-07-20', 'rootkey.csv', verbose=True)"
   ]
  },
  {
   "cell_type": "markdown",
   "id": "5c045a9e",
   "metadata": {},
   "source": [
    "TMP_DIR works as caching directory, and can be configured. For the test areas, there are cropped jp2 files in current directory. Slight differences in NDVI are due to crop cutting some edge pixels."
   ]
  },
  {
   "cell_type": "code",
   "execution_count": 5,
   "id": "a35ff650",
   "metadata": {},
   "outputs": [
    {
     "name": "stdout",
     "output_type": "stream",
     "text": [
      "Searching for tiles for area #0\n",
      "Requesting tiles for geometries. Params: {'bbox': '[83.070385, 54.822552, 83.121383, 54.857172]', 'time': '2020-07-06T00:00:00Z/2020-07-20T00:00:00Z', 'collection': 'sentinel-2-l1c', 'limit': 100}\n",
      "Found 8 images.\n",
      "Downloading image from S3: https://sentinel-s2-l1c.s3.amazonaws.com/tiles/44/U/PF/2020/7/19/0/B01.jp2\n",
      "Image was already cached in ./tiles-44-U-PF-2020-7-19-0-B01.jp2\n",
      "Downloading image from S3: https://sentinel-s2-l1c.s3.amazonaws.com/tiles/44/U/PF/2020/7/19/0/B08.jp2\n",
      "Image was already cached in ./tiles-44-U-PF-2020-7-19-0-B08.jp2\n",
      "Downloading image from S3: https://sentinel-s2-l1c.s3.amazonaws.com/tiles/44/U/PF/2020/7/19/0/B11.jp2\n",
      "Image was already cached in ./tiles-44-U-PF-2020-7-19-0-B11.jp2\n",
      "Area #0 results:\n",
      "Mean NDVI: 2.517\n",
      "Median NDVI: 0.32\n",
      "Variance: 326.993\n",
      "Quantiles: {1: 0.01, 5: 0.06, 10: 0.11, 25: 0.24, 50: 0.32, 95: 19.02, 99: 29.95}\n",
      "Pixels in the area: 123709\n",
      "\n",
      "Searching for tiles for area #1\n",
      "Requesting tiles for geometries. Params: {'bbox': '[83.102957, 54.812444, 83.143276, 54.831243]', 'time': '2020-07-06T00:00:00Z/2020-07-20T00:00:00Z', 'collection': 'sentinel-2-l1c', 'limit': 100}\n",
      "Found 8 images.\n",
      "Downloading image from S3: https://sentinel-s2-l1c.s3.amazonaws.com/tiles/44/U/PF/2020/7/19/0/B01.jp2\n",
      "Image was already cached in ./tiles-44-U-PF-2020-7-19-0-B01.jp2\n",
      "Downloading image from S3: https://sentinel-s2-l1c.s3.amazonaws.com/tiles/44/U/PF/2020/7/19/0/B08.jp2\n",
      "Image was already cached in ./tiles-44-U-PF-2020-7-19-0-B08.jp2\n",
      "Downloading image from S3: https://sentinel-s2-l1c.s3.amazonaws.com/tiles/44/U/PF/2020/7/19/0/B11.jp2\n",
      "Image was already cached in ./tiles-44-U-PF-2020-7-19-0-B11.jp2\n",
      "Area #1 results:\n",
      "Mean NDVI: 0.569\n",
      "Median NDVI: 0.36\n",
      "Variance: 12.457\n",
      "Quantiles: {1: 0.22, 5: 0.28, 10: 0.3, 25: 0.33, 50: 0.36, 95: 0.41, 99: 0.45}\n",
      "Pixels in the area: 55167\n",
      "\n"
     ]
    }
   ],
   "source": [
    "ex.TMP_DIR = '.'\n",
    "ex.main(areas, '2020-07-20', 'rootkey.csv', verbose=True)"
   ]
  },
  {
   "cell_type": "code",
   "execution_count": null,
   "id": "4861dfa9",
   "metadata": {},
   "outputs": [],
   "source": []
  }
 ],
 "metadata": {
  "kernelspec": {
   "display_name": "Python 3",
   "language": "python",
   "name": "python3"
  },
  "language_info": {
   "codemirror_mode": {
    "name": "ipython",
    "version": 3
   },
   "file_extension": ".py",
   "mimetype": "text/x-python",
   "name": "python",
   "nbconvert_exporter": "python",
   "pygments_lexer": "ipython3",
   "version": "3.8.10"
  }
 },
 "nbformat": 4,
 "nbformat_minor": 5
}
